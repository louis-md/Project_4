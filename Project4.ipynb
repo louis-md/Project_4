{
 "cells": [
  {
   "cell_type": "code",
   "execution_count": 2,
   "id": "afc0fd80",
   "metadata": {},
   "outputs": [],
   "source": [
    "import pandas as pd "
   ]
  },
  {
   "cell_type": "code",
   "execution_count": 28,
   "id": "74555f85",
   "metadata": {},
   "outputs": [
    {
     "name": "stderr",
     "output_type": "stream",
     "text": [
      "/var/folders/b5/0_tkhzk50998yq1mgzytzf8c0000gn/T/ipykernel_71770/1694165870.py:2: DtypeWarning: Columns (41) have mixed types. Specify dtype option on import or set low_memory=False.\n",
      "  df = pd.read_csv('./carnivorous_diet.csv', encoding='latin1')\n"
     ]
    }
   ],
   "source": [
    "pd.options.display.max_columns = 60\n",
    "df = pd.read_csv('./carnivorous_diet.csv', encoding='latin1')"
   ]
  },
  {
   "cell_type": "code",
   "execution_count": 27,
   "id": "a70ff96b",
   "metadata": {},
   "outputs": [],
   "source": [
    "# Remove index duplicate (recordID) and columns made of 99% 'Unknown's\n",
    "df.drop(columns=['recordID', 'lifeStageCarni'], inplace=True)\n"
   ]
  },
  {
   "cell_type": "code",
   "execution_count": 33,
   "id": "622b3ea5",
   "metadata": {},
   "outputs": [
    {
     "data": {
      "text/plain": [
       "recordID                           0\n",
       "orderCarni                         0\n",
       "familyCarni                        0\n",
       "scientificNameCarni                0\n",
       "commonNameCarni                    0\n",
       "sexCarni                           0\n",
       "lifeStageCarni                     0\n",
       "foodType                           2\n",
       "orderPrey                      10283\n",
       "familyPrey                     11996\n",
       "genusPrey                      13627\n",
       "commonNamePrey                   423\n",
       "domesticOrAgricultural           238\n",
       "taxonRankPrey                      0\n",
       "percentage                         0\n",
       "dataBasisFromSource              350\n",
       "sampleSizeScatStomachTissue     2810\n",
       "startYear                       1334\n",
       "endYear                         1334\n",
       "startMonth                      9541\n",
       "endMonth                        9528\n",
       "fixedBetweenMonths              9721\n",
       "season                          2224\n",
       "country                          307\n",
       "studyAreaSize                  10404\n",
       "decimalLatitude                  222\n",
       "decimalLongitude                 514\n",
       "georeferenceSources              157\n",
       "samplingProtocol                   0\n",
       "methodQuantification               0\n",
       "sourceAuthor                       0\n",
       "sourceYear                         0\n",
       "sourceTitle                        0\n",
       "sourceJournal                      0\n",
       "sourcePrimaryReference             0\n",
       "sourceCollectionReference          0\n",
       "dtype: int64"
      ]
     },
     "execution_count": 33,
     "metadata": {},
     "output_type": "execute_result"
    }
   ],
   "source": [
    "# Remove all columns whose N/A represent more than half the dataset\n",
    "def is_majority_na(columnName):\n",
    "    return df[columnName].isna().sum() > len(df) / 2\n",
    "\n",
    "for i in df.columns:\n",
    "    if (is_majority_na(i)):\n",
    "        print(f'Dropping column {i}')\n",
    "        df.drop(columns=[i], inplace=True)\n",
    "\n",
    "df.isna().sum()\n"
   ]
  },
  {
   "cell_type": "code",
   "execution_count": null,
   "id": "44063731",
   "metadata": {},
   "outputs": [],
   "source": []
  }
 ],
 "metadata": {
  "kernelspec": {
   "display_name": "Python 3 (ipykernel)",
   "language": "python",
   "name": "python3"
  },
  "language_info": {
   "codemirror_mode": {
    "name": "ipython",
    "version": 3
   },
   "file_extension": ".py",
   "mimetype": "text/x-python",
   "name": "python",
   "nbconvert_exporter": "python",
   "pygments_lexer": "ipython3",
   "version": "3.9.6"
  }
 },
 "nbformat": 4,
 "nbformat_minor": 5
}
