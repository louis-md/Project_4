{
 "cells": [
  {
   "cell_type": "code",
   "execution_count": 77,
   "id": "afc0fd80",
   "metadata": {},
   "outputs": [],
   "source": [
    "import pandas as pd\n",
    "import matplotlib.pyplot as plt\n",
    "import numpy as np\n",
    "import math\n",
    "import seaborn as sns\n",
    "\n",
    "# makes sure charts appear in the notebook rather than a popup window\n",
    "%matplotlib inline"
   ]
  },
  {
   "cell_type": "code",
   "execution_count": 78,
   "id": "74555f85",
   "metadata": {},
   "outputs": [
    {
     "name": "stderr",
     "output_type": "stream",
     "text": [
      "/var/folders/_s/5ccjvt852hv4ddn7j5mrvy1m0000gn/T/ipykernel_16053/1694165870.py:2: DtypeWarning: Columns (41) have mixed types. Specify dtype option on import or set low_memory=False.\n",
      "  df = pd.read_csv('./carnivorous_diet.csv', encoding='latin1')\n"
     ]
    }
   ],
   "source": [
    "pd.options.display.max_columns = 60\n",
    "df = pd.read_csv('./carnivorous_diet.csv', encoding='latin1')"
   ]
  },
  {
   "cell_type": "code",
   "execution_count": 79,
   "id": "a70ff96b",
   "metadata": {},
   "outputs": [],
   "source": [
    "# Remove index duplicate (recordID) and columns made of 99% 'Unknown's\n",
    "df.drop(columns=['recordID', 'lifeStageCarni'], inplace=True)\n"
   ]
  },
  {
   "cell_type": "code",
   "execution_count": 80,
   "id": "622b3ea5",
   "metadata": {},
   "outputs": [
    {
     "name": "stdout",
     "output_type": "stream",
     "text": [
      "Dropping column speciesPrey\n",
      "Dropping column scientificNamePrey\n",
      "Dropping column percentageError\n",
      "Dropping column sampleSizeKillsPreyItems\n",
      "Dropping column startDayOfYear\n",
      "Dropping column endDayOfYear\n",
      "Dropping column minimumElevationInMeters\n",
      "Dropping column maximumElevationInMeters\n",
      "Dropping column geographicRegion\n",
      "Dropping column stateProvince\n",
      "Dropping column county\n",
      "Dropping column municipality\n",
      "Dropping column verbatimLocality\n",
      "Dropping column protectedAreaHigher\n",
      "Dropping column protectedAreaLower\n",
      "Dropping column islandGroup\n",
      "Dropping column island\n"
     ]
    }
   ],
   "source": [
    "# Remove all columns whose N/A represent more than half the dataset\n",
    "def is_majority_na(columnName):\n",
    "    return df[columnName].isna().sum() > len(df) / 2\n",
    "\n",
    "for i in df.columns:\n",
    "    if (is_majority_na(i)):\n",
    "        print(f'Dropping column {i}')\n",
    "        df.drop(columns=[i], inplace=True)\n",
    "\n"
   ]
  },
  {
   "cell_type": "code",
   "execution_count": 81,
   "id": "7d9a9606",
   "metadata": {},
   "outputs": [],
   "source": [
    "# Remove typos in commonNamePrey.\n",
    "df.drop(index=[*df.loc[df['commonNamePrey'] == '0.1-0.3 kg rodent'].index,\n",
    "        *df.loc[df['commonNamePrey'] == '0.3-0.5 kg rodent'].index], inplace=True)\n"
   ]
  }
 ],
 "metadata": {
  "kernelspec": {
   "display_name": "Python 3 (ipykernel)",
   "language": "python",
   "name": "python3"
  },
  "language_info": {
   "codemirror_mode": {
    "name": "ipython",
    "version": 3
   },
   "file_extension": ".py",
   "mimetype": "text/x-python",
   "name": "python",
   "nbconvert_exporter": "python",
   "pygments_lexer": "ipython3",
   "version": "3.9.13"
  }
 },
 "nbformat": 4,
 "nbformat_minor": 5
}
